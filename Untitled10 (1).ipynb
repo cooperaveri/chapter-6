{
 "cells": [
  {
   "cell_type": "markdown",
   "id": "b3c21d65-b776-49bb-b0da-f2d8aa32008c",
   "metadata": {},
   "source": [
    "Chapter 6"
   ]
  },
  {
   "cell_type": "markdown",
   "id": "1fbaa3a6-5781-4ef5-bd3a-05de573d4b31",
   "metadata": {},
   "source": [
    "# Algorithm Workbench 1,9"
   ]
  },
  {
   "cell_type": "markdown",
   "id": "08ba3d9a-20e0-4658-8aac-27bf6d1bb618",
   "metadata": {},
   "source": [
    "## 1. write a program that opens an output file with the filename my_name.txt, writes your name to the file, then closes the file"
   ]
  },
  {
   "cell_type": "code",
   "execution_count": 7,
   "id": "62aa2637-a891-4e06-ae0a-597f6ae8fc8f",
   "metadata": {},
   "outputs": [
    {
     "ename": "NameError",
     "evalue": "name 'Averi' is not defined",
     "output_type": "error",
     "traceback": [
      "\u001b[0;31m---------------------------------------------------------------------------\u001b[0m",
      "\u001b[0;31mNameError\u001b[0m                                 Traceback (most recent call last)",
      "Cell \u001b[0;32mIn[7], line 6\u001b[0m\n\u001b[1;32m      2\u001b[0m file_name \u001b[38;5;241m=\u001b[39m \u001b[38;5;124m\"\u001b[39m\u001b[38;5;124mmy_name.txt\u001b[39m\u001b[38;5;124m\"\u001b[39m\n\u001b[1;32m      4\u001b[0m \u001b[38;5;28;01mwith\u001b[39;00m \u001b[38;5;28mopen\u001b[39m(file_name, \u001b[38;5;124m'\u001b[39m\u001b[38;5;124mw\u001b[39m\u001b[38;5;124m'\u001b[39m) \u001b[38;5;28;01mas\u001b[39;00m file:\n\u001b[1;32m      5\u001b[0m     \u001b[38;5;66;03m# write your name to the file\u001b[39;00m\n\u001b[0;32m----> 6\u001b[0m     your_name \u001b[38;5;241m=\u001b[39m Averi \n\u001b[1;32m      7\u001b[0m     file\u001b[38;5;241m.\u001b[39mwrite(your_name)\n\u001b[1;32m      9\u001b[0m \u001b[38;5;66;03m# show reults\u001b[39;00m\n",
      "\u001b[0;31mNameError\u001b[0m: name 'Averi' is not defined"
     ]
    }
   ],
   "source": [
    "# open the file in write mode ('w' stands for write)\n",
    "file_name = \"my_name.txt\"\n",
    "\n",
    "with open(file_name, 'w') as file:\n",
    "    # write your name to the file\n",
    "    your_name = Averi \n",
    "    file.write(your_name)\n",
    "\n",
    "# show reults\n",
    "print(f\"Successfully wrote '{your_name}' to {file_name}\")\n"
   ]
  },
  {
   "cell_type": "code",
   "execution_count": 10,
   "id": "a244e947-e1cc-443a-90bc-d48b83016805",
   "metadata": {},
   "outputs": [
    {
     "name": "stdout",
     "output_type": "stream",
     "text": [
      "Successfully wrote 'Averi' to my_name.txt\n"
     ]
    }
   ],
   "source": [
    "# open the file in write mode ('w' stands for write)\n",
    "file_name = \"my_name.txt\"\n",
    "\n",
    "with open(file_name, 'w') as file:\n",
    "    # write your name to the file\n",
    "    your_name = 'Averi'\n",
    "    file.write(your_name)\n",
    "\n",
    "# show reults\n",
    "print(f\"Successfully wrote '{your_name}' to {file_name}\")\n"
   ]
  },
  {
   "cell_type": "markdown",
   "id": "db52804f-decc-4977-b54e-8a7e3ccb215a",
   "metadata": {},
   "source": [
    "forgot quotations on my name"
   ]
  },
  {
   "cell_type": "markdown",
   "id": "783a9aa5-1225-4d0c-a17b-c37724879b3a",
   "metadata": {},
   "source": [
    "## 9. what will the following code display?\n",
    "try:\n",
    "    x = float('abc')\n",
    "    print('The conversion is complete.')\n",
    "except IOError:\n",
    "    print('This code caused an IOError.')\n",
    "print('The end.')"
   ]
  },
  {
   "cell_type": "markdown",
   "id": "cce8e0e8-e0ca-46c0-8876-d0415214aead",
   "metadata": {},
   "source": [
    "i think its gonna be a value error because it  because it's trying to convert the string 'abc' into a float"
   ]
  },
  {
   "cell_type": "code",
   "execution_count": 15,
   "id": "050058e3-f1c4-4a8c-bbb7-09a9f2ea6e25",
   "metadata": {},
   "outputs": [
    {
     "ename": "ValueError",
     "evalue": "could not convert string to float: 'abc'",
     "output_type": "error",
     "traceback": [
      "\u001b[0;31m---------------------------------------------------------------------------\u001b[0m",
      "\u001b[0;31mValueError\u001b[0m                                Traceback (most recent call last)",
      "Cell \u001b[0;32mIn[15], line 2\u001b[0m\n\u001b[1;32m      1\u001b[0m \u001b[38;5;28;01mtry\u001b[39;00m:\n\u001b[0;32m----> 2\u001b[0m     x \u001b[38;5;241m=\u001b[39m \u001b[38;5;28mfloat\u001b[39m(\u001b[38;5;124m'\u001b[39m\u001b[38;5;124mabc\u001b[39m\u001b[38;5;124m'\u001b[39m)\n\u001b[1;32m      3\u001b[0m     \u001b[38;5;28mprint\u001b[39m(\u001b[38;5;124m'\u001b[39m\u001b[38;5;124mThe conversion is complete.\u001b[39m\u001b[38;5;124m'\u001b[39m)\n\u001b[1;32m      4\u001b[0m \u001b[38;5;28;01mexcept\u001b[39;00m \u001b[38;5;167;01mIOError\u001b[39;00m:\n",
      "\u001b[0;31mValueError\u001b[0m: could not convert string to float: 'abc'"
     ]
    }
   ],
   "source": [
    "try:\n",
    "    x = float('abc')\n",
    "    print('The conversion is complete.')\n",
    "except IOError:\n",
    "    print('This code caused an IOError.')\n",
    "print('The end.')"
   ]
  },
  {
   "cell_type": "markdown",
   "id": "7a9ddc71-2a78-4ec0-be17-0442918c38de",
   "metadata": {},
   "source": [
    "# Programming exercises 1,6,7,9"
   ]
  },
  {
   "cell_type": "markdown",
   "id": "016e55f1-7796-41e9-bf00-d8b25dde4357",
   "metadata": {},
   "source": [
    "## 1. assume a file containing a series of integers is named numbers.txt and exists on the computers disk. write a program that displays all of the numbers in the file"
   ]
  },
  {
   "cell_type": "code",
   "execution_count": 22,
   "id": "0020b006-6d55-4c3c-894f-34e2b066ac35",
   "metadata": {},
   "outputs": [
    {
     "name": "stdout",
     "output_type": "stream",
     "text": [
      "The file 'numbers.txt' does not exist.\n"
     ]
    }
   ],
   "source": [
    "# name of the file to read\n",
    "file_name = \"numbers.txt\"\n",
    "\n",
    "try:\n",
    "    # open file for reading\n",
    "    with open(file_name, 'r') as file:\n",
    "        for line in file:\n",
    "            try:\n",
    "                # convert the line to an integer\n",
    "                number = int(line)\n",
    "                # show the integer\n",
    "                print(number)\n",
    "            except ValueError:\n",
    "                # if the line is not a valid integer, skip it\n",
    "                pass\n",
    "except FileNotFoundError:\n",
    "        print(f\"The file '{file_name}' does not exist.\")\n",
    "except IOError as e:\n",
    "    # show results\n",
    "    print(f\"An error occurred: {e}\")"
   ]
  },
  {
   "cell_type": "markdown",
   "id": "b73de782-c593-428b-b9e5-0e1d347e7add",
   "metadata": {},
   "source": [
    "## 6. assume a file containing a series of integers is named numbers.txt and exists on the computers disk. write a program that calculates the average of all the numbers stored in the file"
   ]
  },
  {
   "cell_type": "code",
   "execution_count": 72,
   "id": "848923d2-d95c-45b2-af73-31bb83484bdb",
   "metadata": {},
   "outputs": [
    {
     "ename": "IndentationError",
     "evalue": "unexpected indent (3458531355.py, line 11)",
     "output_type": "error",
     "traceback": [
      "\u001b[0;36m  Cell \u001b[0;32mIn[72], line 11\u001b[0;36m\u001b[0m\n\u001b[0;31m    for line in file:\u001b[0m\n\u001b[0m    ^\u001b[0m\n\u001b[0;31mIndentationError\u001b[0m\u001b[0;31m:\u001b[0m unexpected indent\n"
     ]
    }
   ],
   "source": [
    "# name of the file to read\n",
    "file_name = \"numbers.txt\"\n",
    "\n",
    "try:\n",
    "    # open the file for reading\n",
    "    with open(file_name, 'r') as file:\n",
    "        # Initialize variables to keep track of the sum and count of numbers\n",
    "        total = 0\n",
    "        count = 0\n",
    "\n",
    "            for line in file:\n",
    "            try:\n",
    "                # convert the line to an integer\n",
    "                number = int(line)\n",
    "                # add the number to the total\n",
    "                total += number\n",
    "                count += 1\n",
    "            except ValueError:\n",
    "                # if the line is not a valid integer, skip it\n",
    "                continue\n",
    "\n",
    "        # calculate the average\n",
    "        if count > 0:\n",
    "            average = total / count\n",
    "            print(f\"The average of the numbers is: {average:.2f}\")\n",
    "        else:\n",
    "            print(\"no valid numbers found in the file.\")\n",
    "except FileNotFoundError:\n",
    "    # when the file does not exist\n",
    "    print(f\"The file '{file_name}' does not exist.\")\n",
    "except IOError as e:\n",
    "    print(f\"An error occurred: {e}\")\n"
   ]
  },
  {
   "cell_type": "code",
   "execution_count": 84,
   "id": "9d7e841b-9b9a-45db-a6f9-5ae0d642fe54",
   "metadata": {},
   "outputs": [
    {
     "name": "stdout",
     "output_type": "stream",
     "text": [
      "The file 'numbers.txt' does not exist.\n"
     ]
    }
   ],
   "source": [
    "# name of the file to read\n",
    "file_name = \"numbers.txt\"\n",
    "\n",
    "try:\n",
    "    # open the file for reading\n",
    "    with open(file_name, 'r') as file:\n",
    "        # Initialize variables to keep track of the sum and count of numbers\n",
    "        total = 0\n",
    "        count = 0\n",
    "\n",
    "        for line in file:\n",
    "            try:\n",
    "                # convert the line to an integer\n",
    "                number = int(line)\n",
    "                # add the number to the total\n",
    "                total += number\n",
    "                count += 1\n",
    "            except ValueError:\n",
    "                # if the line is not a valid integer, skip it\n",
    "                continue\n",
    "\n",
    "        # calculate the average\n",
    "        if count > 0:\n",
    "            average = total / count\n",
    "            print(f\"The average of the numbers is: {average:.2f}\")\n",
    "        else:\n",
    "            print(\"no valid numbers found in the file.\")\n",
    "except FileNotFoundError:\n",
    "    # when the file does not exist\n",
    "    print(f\"The file '{file_name}' does not exist.\")\n",
    "except IOError as e:\n",
    "    print(f\"An error occurred: {e}\")\n"
   ]
  },
  {
   "cell_type": "markdown",
   "id": "32ec72d8-40cd-4ee0-b707-0a8d6ebc9e5f",
   "metadata": {},
   "source": [
    "## 7. write a program that writes a series of random numbers to a file. each random number should be in the range of 1 - 500. the application should let the user specify how many random numbers the file will hold"
   ]
  },
  {
   "cell_type": "code",
   "execution_count": 35,
   "id": "f531d03d-98cb-4928-a70e-caa1388f4fb0",
   "metadata": {},
   "outputs": [
    {
     "name": "stdin",
     "output_type": "stream",
     "text": [
      "enter the number of random numbers to generate:  10\n"
     ]
    },
    {
     "name": "stdout",
     "output_type": "stream",
     "text": [
      "10 random numbers have been written to random_numbers.txt.\n"
     ]
    }
   ],
   "source": [
    "import random\n",
    "\n",
    "# ask the user for the number of random numbers to generate\n",
    "num_numbers = int(input(\"enter the number of random numbers to generate: \"))\n",
    "\n",
    "# name of the file to write\n",
    "file_name = \"random_numbers.txt\"\n",
    "\n",
    "# open the file for writing\n",
    "with open(file_name, 'w') as file:\n",
    "    # write random numbers to the file\n",
    "    for _ in range(num_numbers):\n",
    "        file.write(str(random.randint(1, 500)) + '\\n')\n",
    "\n",
    "print(f\"{num_numbers} random numbers have been written to {file_name}.\")\n"
   ]
  },
  {
   "cell_type": "markdown",
   "id": "237900cc-2cbf-42b5-bbe9-8da479aab52b",
   "metadata": {},
   "source": [
    "## 9. modify program that was wrote for problem 6 that handles the following: should handlenany I0Error exceptions that are raised when thr file is opened and data is read from it, and should handle any ValueError exceptions that are raised when the items that are read from the file are converted to a number"
   ]
  },
  {
   "cell_type": "code",
   "execution_count": 94,
   "id": "495e3eb8-4668-4694-b89f-39c5afc3d1b6",
   "metadata": {},
   "outputs": [
    {
     "ename": "SyntaxError",
     "evalue": "unmatched ')' (398137271.py, line 14)",
     "output_type": "error",
     "traceback": [
      "\u001b[0;36m  Cell \u001b[0;32mIn[94], line 14\u001b[0;36m\u001b[0m\n\u001b[0;31m    number = int(line.strip))\u001b[0m\n\u001b[0m                            ^\u001b[0m\n\u001b[0;31mSyntaxError\u001b[0m\u001b[0;31m:\u001b[0m unmatched ')'\n"
     ]
    }
   ],
   "source": [
    "# name of the file to read\n",
    "file_name = \"numbers.txt\"\n",
    "\n",
    "try:\n",
    "    # open the file for reading\n",
    "    with open(file_name, 'r') as file:\n",
    "        # Initialize variables to keep track of the sum and count of numbers\n",
    "        total = 0\n",
    "        count = 0\n",
    "\n",
    "        for line in file:\n",
    "            try:\n",
    "                # convert the line to an integer\n",
    "                number = int(line.strip))\n",
    "                # add the number to the total\n",
    "                total += number\n",
    "                count += 1\n",
    "            except ValueError as ve:\n",
    "                print(f\"ValueError: {ve} (Skipping this line)\")\n",
    "                continue\n",
    "\n",
    "        # calculate the average\n",
    "        if count > 0:\n",
    "            average = total / count\n",
    "            print(f\"The average of the numbers is: {average:.2f}\")\n",
    "except ValueError:\n",
    "    print(f\"The file '{file_name}' does not exist.\")\n",
    "except IOError as e:\n",
    "    print(f\"An error occurred: {e}\")\n"
   ]
  },
  {
   "cell_type": "code",
   "execution_count": 98,
   "id": "917747df-3de7-41a1-995b-7a1679880db3",
   "metadata": {},
   "outputs": [
    {
     "ename": "SyntaxError",
     "evalue": "unmatched ')' (3798115980.py, line 14)",
     "output_type": "error",
     "traceback": [
      "\u001b[0;36m  Cell \u001b[0;32mIn[98], line 14\u001b[0;36m\u001b[0m\n\u001b[0;31m    number = int(line.strip)))\u001b[0m\n\u001b[0m                            ^\u001b[0m\n\u001b[0;31mSyntaxError\u001b[0m\u001b[0;31m:\u001b[0m unmatched ')'\n"
     ]
    }
   ],
   "source": [
    "# name of the file to read\n",
    "file_name = \"numbers.txt\"\n",
    "\n",
    "try:\n",
    "    # open the file for reading\n",
    "    with open(file_name, 'r') as file:\n",
    "        # Initialize variables to keep track of the sum and count of numbers\n",
    "        total = 0\n",
    "        count = 0\n",
    "\n",
    "        for line in file:\n",
    "            try:\n",
    "                # convert the line to an integer\n",
    "                number = int(line.strip)))\n",
    "                # add the number to the total\n",
    "                total += number\n",
    "                count += 1\n",
    "            except ValueError as ve:\n",
    "                print(f\"ValueError: {ve} (Skipping this line)\")\n",
    "                continue\n",
    "\n",
    "        # calculate the average\n",
    "        if count > 0:\n",
    "            average = total / count\n",
    "            print(f\"The average of the numbers is: {average:.2f}\")\n",
    "except ValueError:\n",
    "    print(f\"The file '{file_name}' does not exist.\")\n",
    "except IOError as e:\n",
    "    print(f\"An error occurred: {e}\")\n"
   ]
  },
  {
   "cell_type": "code",
   "execution_count": 106,
   "id": "779f975a-a891-440e-9cfa-21469cd43878",
   "metadata": {},
   "outputs": [
    {
     "ename": "SyntaxError",
     "evalue": "unmatched ')' (2314424036.py, line 14)",
     "output_type": "error",
     "traceback": [
      "\u001b[0;36m  Cell \u001b[0;32mIn[106], line 14\u001b[0;36m\u001b[0m\n\u001b[0;31m    number = int(line.strip)())\u001b[0m\n\u001b[0m                              ^\u001b[0m\n\u001b[0;31mSyntaxError\u001b[0m\u001b[0;31m:\u001b[0m unmatched ')'\n"
     ]
    }
   ],
   "source": [
    "# name of the file to read\n",
    "file_name = \"numbers.txt\"\n",
    "\n",
    "try:\n",
    "    # open the file for reading\n",
    "    with open(file_name, 'r') as file:\n",
    "        # Initialize variables to keep track of the sum and count of numbers\n",
    "        total = 0\n",
    "        count = 0\n",
    "\n",
    "        for line in file:\n",
    "            try:\n",
    "                # convert the line to an integer\n",
    "                number = int(line.strip)())\n",
    "                # add the number to the total\n",
    "                total += number\n",
    "                count += 1\n",
    "            except ValueError as ve:\n",
    "                print(f\"ValueError: {ve} (Skipping this line)\")\n",
    "                continue\n",
    "\n",
    "        # calculate the average\n",
    "        if count > 0:\n",
    "            average = total / count\n",
    "            print(f\"The average of the numbers is: {average:.2f}\")\n",
    "except ValueError:\n",
    "    print(f\"The file '{file_name}' does not exist.\")\n",
    "except IOError as e:\n",
    "    print(f\"An error occurred: {e}\")\n"
   ]
  },
  {
   "cell_type": "code",
   "execution_count": 108,
   "id": "ccbf6f67-2830-4cd4-8a06-474499371266",
   "metadata": {},
   "outputs": [
    {
     "name": "stdout",
     "output_type": "stream",
     "text": [
      "The file 'numbers.txt' does not exist.\n"
     ]
    }
   ],
   "source": [
    "# name of the file to read\n",
    "file_name = \"numbers.txt\"\n",
    "\n",
    "try:\n",
    "    # open the file for reading\n",
    "    with open(file_name, 'r') as file:\n",
    "        # Initialize variables to keep track of the sum and count of numbers\n",
    "        total = 0\n",
    "        count = 0\n",
    "\n",
    "        for line in file:\n",
    "            try:\n",
    "                # convert the line to an integer\n",
    "                number = int(line.strip())\n",
    "                # add the number to the total\n",
    "                total += number\n",
    "                count += 1\n",
    "            except ValueError as ve:\n",
    "                print(f\"ValueError: {ve} (Skipping this line)\")\n",
    "                continue\n",
    "\n",
    "        # calculate the average\n",
    "        if count > 0:\n",
    "            average = total / count\n",
    "            print(f\"The average of the numbers is: {average:.2f}\")\n",
    "except FileNotFoundError:\n",
    "    print(f\"The file '{file_name}' does not exist.\")\n",
    "except IOError as e:\n",
    "    print(f\"An error occurred: {e}\")\n"
   ]
  },
  {
   "cell_type": "code",
   "execution_count": null,
   "id": "e4ee0978-f543-4a2f-a77a-8e9e28e96369",
   "metadata": {},
   "outputs": [],
   "source": []
  }
 ],
 "metadata": {
  "kernelspec": {
   "display_name": "anaconda-panel-2023.05-py310",
   "language": "python",
   "name": "conda-env-anaconda-panel-2023.05-py310-py"
  },
  "language_info": {
   "codemirror_mode": {
    "name": "ipython",
    "version": 3
   },
   "file_extension": ".py",
   "mimetype": "text/x-python",
   "name": "python",
   "nbconvert_exporter": "python",
   "pygments_lexer": "ipython3",
   "version": "3.11.4"
  }
 },
 "nbformat": 4,
 "nbformat_minor": 5
}
