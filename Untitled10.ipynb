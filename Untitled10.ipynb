{
 "cells": [
  {
   "cell_type": "markdown",
   "id": "b3c21d65-b776-49bb-b0da-f2d8aa32008c",
   "metadata": {},
   "source": [
    "Chapter 6"
   ]
  },
  {
   "cell_type": "markdown",
   "id": "1fbaa3a6-5781-4ef5-bd3a-05de573d4b31",
   "metadata": {},
   "source": [
    "# Algorithm Workbench 1,9"
   ]
  },
  {
   "cell_type": "markdown",
   "id": "08ba3d9a-20e0-4658-8aac-27bf6d1bb618",
   "metadata": {},
   "source": [
    "## 1. write a program that opens an output file with the filename my_name.txt, writes your name to the file, then closes the file"
   ]
  },
  {
   "cell_type": "code",
   "execution_count": 7,
   "id": "62aa2637-a891-4e06-ae0a-597f6ae8fc8f",
   "metadata": {},
   "outputs": [
    {
     "ename": "NameError",
     "evalue": "name 'Averi' is not defined",
     "output_type": "error",
     "traceback": [
      "\u001b[0;31m---------------------------------------------------------------------------\u001b[0m",
      "\u001b[0;31mNameError\u001b[0m                                 Traceback (most recent call last)",
      "Cell \u001b[0;32mIn[7], line 6\u001b[0m\n\u001b[1;32m      2\u001b[0m file_name \u001b[38;5;241m=\u001b[39m \u001b[38;5;124m\"\u001b[39m\u001b[38;5;124mmy_name.txt\u001b[39m\u001b[38;5;124m\"\u001b[39m\n\u001b[1;32m      4\u001b[0m \u001b[38;5;28;01mwith\u001b[39;00m \u001b[38;5;28mopen\u001b[39m(file_name, \u001b[38;5;124m'\u001b[39m\u001b[38;5;124mw\u001b[39m\u001b[38;5;124m'\u001b[39m) \u001b[38;5;28;01mas\u001b[39;00m file:\n\u001b[1;32m      5\u001b[0m     \u001b[38;5;66;03m# write your name to the file\u001b[39;00m\n\u001b[0;32m----> 6\u001b[0m     your_name \u001b[38;5;241m=\u001b[39m Averi \n\u001b[1;32m      7\u001b[0m     file\u001b[38;5;241m.\u001b[39mwrite(your_name)\n\u001b[1;32m      9\u001b[0m \u001b[38;5;66;03m# show reults\u001b[39;00m\n",
      "\u001b[0;31mNameError\u001b[0m: name 'Averi' is not defined"
     ]
    }
   ],
   "source": [
    "# open the file in write mode ('w' stands for write)\n",
    "file_name = \"my_name.txt\"\n",
    "\n",
    "with open(file_name, 'w') as file:\n",
    "    # write your name to the file\n",
    "    your_name = Averi \n",
    "    file.write(your_name)\n",
    "\n",
    "# show reults\n",
    "print(f\"Successfully wrote '{your_name}' to {file_name}\")\n"
   ]
  },
  {
   "cell_type": "code",
   "execution_count": 10,
   "id": "a244e947-e1cc-443a-90bc-d48b83016805",
   "metadata": {},
   "outputs": [
    {
     "name": "stdout",
     "output_type": "stream",
     "text": [
      "Successfully wrote 'Averi' to my_name.txt\n"
     ]
    }
   ],
   "source": [
    "# open the file in write mode ('w' stands for write)\n",
    "file_name = \"my_name.txt\"\n",
    "\n",
    "with open(file_name, 'w') as file:\n",
    "    # write your name to the file\n",
    "    your_name = 'Averi'\n",
    "    file.write(your_name)\n",
    "\n",
    "# show reults\n",
    "print(f\"Successfully wrote '{your_name}' to {file_name}\")\n"
   ]
  },
  {
   "cell_type": "markdown",
   "id": "db52804f-decc-4977-b54e-8a7e3ccb215a",
   "metadata": {},
   "source": [
    "forgot quotations on my name"
   ]
  },
  {
   "cell_type": "markdown",
   "id": "783a9aa5-1225-4d0c-a17b-c37724879b3a",
   "metadata": {},
   "source": [
    "## 9. what will the following code display?\n",
    "try:\n",
    "    x = float('abc')\n",
    "    print('The conversion is complete.')\n",
    "except IOError:\n",
    "    print('This code caused an IOError.')\n",
    "print('The end.')"
   ]
  },
  {
   "cell_type": "markdown",
   "id": "cce8e0e8-e0ca-46c0-8876-d0415214aead",
   "metadata": {},
   "source": [
    "i think its gonna be a value error because it  because it's trying to convert the string 'abc' into a float"
   ]
  },
  {
   "cell_type": "code",
   "execution_count": 15,
   "id": "050058e3-f1c4-4a8c-bbb7-09a9f2ea6e25",
   "metadata": {},
   "outputs": [
    {
     "ename": "ValueError",
     "evalue": "could not convert string to float: 'abc'",
     "output_type": "error",
     "traceback": [
      "\u001b[0;31m---------------------------------------------------------------------------\u001b[0m",
      "\u001b[0;31mValueError\u001b[0m                                Traceback (most recent call last)",
      "Cell \u001b[0;32mIn[15], line 2\u001b[0m\n\u001b[1;32m      1\u001b[0m \u001b[38;5;28;01mtry\u001b[39;00m:\n\u001b[0;32m----> 2\u001b[0m     x \u001b[38;5;241m=\u001b[39m \u001b[38;5;28mfloat\u001b[39m(\u001b[38;5;124m'\u001b[39m\u001b[38;5;124mabc\u001b[39m\u001b[38;5;124m'\u001b[39m)\n\u001b[1;32m      3\u001b[0m     \u001b[38;5;28mprint\u001b[39m(\u001b[38;5;124m'\u001b[39m\u001b[38;5;124mThe conversion is complete.\u001b[39m\u001b[38;5;124m'\u001b[39m)\n\u001b[1;32m      4\u001b[0m \u001b[38;5;28;01mexcept\u001b[39;00m \u001b[38;5;167;01mIOError\u001b[39;00m:\n",
      "\u001b[0;31mValueError\u001b[0m: could not convert string to float: 'abc'"
     ]
    }
   ],
   "source": [
    "try:\n",
    "    x = float('abc')\n",
    "    print('The conversion is complete.')\n",
    "except IOError:\n",
    "    print('This code caused an IOError.')\n",
    "print('The end.')"
   ]
  },
  {
   "cell_type": "code",
   "execution_count": null,
   "id": "8bf7d080-29bb-480f-8095-b8db30f324bc",
   "metadata": {},
   "outputs": [],
   "source": []
  }
 ],
 "metadata": {
  "kernelspec": {
   "display_name": "anaconda-panel-2023.05-py310",
   "language": "python",
   "name": "conda-env-anaconda-panel-2023.05-py310-py"
  },
  "language_info": {
   "codemirror_mode": {
    "name": "ipython",
    "version": 3
   },
   "file_extension": ".py",
   "mimetype": "text/x-python",
   "name": "python",
   "nbconvert_exporter": "python",
   "pygments_lexer": "ipython3",
   "version": "3.11.4"
  }
 },
 "nbformat": 4,
 "nbformat_minor": 5
}
